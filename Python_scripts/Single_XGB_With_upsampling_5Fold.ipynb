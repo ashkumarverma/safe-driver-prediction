{
 "cells": [
  {
   "cell_type": "code",
   "execution_count": 124,
   "metadata": {
    "collapsed": true
   },
   "outputs": [],
   "source": [
    "import pandas as pd\n",
    "import time\n",
    "import numpy as np\n",
    "from numba import jit\n",
    "from sklearn.model_selection import train_test_split\n",
    "from multiprocessing import *\n",
    "from sklearn.model_selection import KFold\n",
    "import gc\n",
    "import warnings\n",
    "warnings.filterwarnings(\"ignore\")\n",
    "from xgboost import XGBClassifier\n",
    "from sklearn.model_selection import train_test_split\n",
    "import xgboost as xgb\n"
   ]
  },
  {
   "cell_type": "code",
   "execution_count": 142,
   "metadata": {
    "collapsed": false
   },
   "outputs": [
    {
     "name": "stdout",
     "output_type": "stream",
     "text": [
      "8.60738611221\n"
     ]
    }
   ],
   "source": [
    "start = time.time()\n",
    "train = pd.read_csv(\"/home/saurabhg/PuertoSergo/train.csv\")\n",
    "test = pd.read_csv(\"/home/saurabhg/PuertoSergo/test.csv\")\n",
    "print(time.time()-start)\n",
    " \n",
    "y = train['target']\n",
    "testid= test['id'].values\n",
    "\n",
    "train.drop(['id','target'],axis=1,inplace=True)\n",
    "test.drop(['id'],axis=1,inplace=True)"
   ]
  },
  {
   "cell_type": "code",
   "execution_count": 143,
   "metadata": {
    "collapsed": false
   },
   "outputs": [
    {
     "name": "stdout",
     "output_type": "stream",
     "text": [
      "('Init Shape: ', (595212, 39))\n",
      "('After Shape: ', (595212, 97))\n",
      "('Init Shape: ', (892816, 39))\n",
      "('After Shape: ', (892816, 97))\n"
     ]
    }
   ],
   "source": [
    "### Drop calc\n",
    "unwanted = train.columns[train.columns.str.startswith('ps_calc_')]\n",
    "f_cats = [f for f in train.columns if \"_cat\" in f]\n",
    "train = train.drop(unwanted, axis=1)  \n",
    "test = test.drop(unwanted, axis=1)\n",
    "\n",
    "### Great Recovery from Pascal's materpiece\n",
    "### Great Recovery from Pascal's materpiece\n",
    "### Great Recovery from Pascal's materpiece\n",
    "### Great Recovery from Pascal's materpiece\n",
    "### Great Recovery from Pascal's materpiece\n",
    "#train['ps_reg_03_square'] = train['ps_reg_03']*train['ps_reg_03']\n",
    "#test['ps_reg_03_square'] = test['ps_reg_03']*test['ps_reg_03']\n",
    "#train['ps_car_14_square'] = train['ps_car_14']*train['ps_car_14']\n",
    "#test['ps_car_14_square'] = test['ps_car_14']*test['ps_car_14']\n",
    "def recon(reg):\n",
    "    integer = int(np.round((40*reg)**2)) \n",
    "    for a in range(32):\n",
    "        if (integer - a) % 31 == 0:\n",
    "            A = a\n",
    "    M = (integer - A)//31\n",
    "    return A, M\n",
    "train['ps_reg_A'] = train['ps_reg_03'].apply(lambda x: recon(x)[0])\n",
    "train['ps_reg_M'] = train['ps_reg_03'].apply(lambda x: recon(x)[1])\n",
    "train['ps_reg_A'].replace(19,-1, inplace=True)\n",
    "train['ps_reg_M'].replace(51,-1, inplace=True)\n",
    "test['ps_reg_A'] = test['ps_reg_03'].apply(lambda x: recon(x)[0])\n",
    "test['ps_reg_M'] = test['ps_reg_03'].apply(lambda x: recon(x)[1])\n",
    "test['ps_reg_A'].replace(19,-1, inplace=True)\n",
    "test['ps_reg_M'].replace(51,-1, inplace=True)\n",
    "\n",
    "\n",
    "### Froza's baseline\n",
    "### Froza's baseline\n",
    "### Froza's baseline\n",
    "### Froza's baseline\n",
    "\n",
    "d_median = train.median(axis=0)\n",
    "d_mean = train.mean(axis=0)\n",
    "d_skew = train.skew(axis=0)\n",
    "one_hot = {c: list(train[c].unique()) for c in train.columns if c not in ['id','target']}\n",
    "\n",
    "def transform_df(df):\n",
    "    df = pd.DataFrame(df)\n",
    "    dcol = [c for c in df.columns if c not in ['id','target']]\n",
    "    df['ps_car_13_x_ps_reg_03'] = df['ps_car_13'] * df['ps_reg_03']\n",
    "    df['negative_one_vals'] = np.sum((df[dcol]==-1).values, axis=1)\n",
    "    for c in dcol:\n",
    "        if '_bin' not in c: #standard arithmetic\n",
    "            df[c+str('_median_range')] = (df[c].values > d_median[c]).astype(np.int)\n",
    "            df[c+str('_mean_range')] = (df[c].values > d_mean[c]).astype(np.int)\n",
    "\n",
    "#    for c in one_hot:\n",
    "#        if len(one_hot[c])>2 and len(one_hot[c]) < 7:\n",
    "#            for val in one_hot[c]:\n",
    "#                df[c+'_oh_' + str(val)] = (df[c].values == val).astype(np.int)\n",
    "    return df\n",
    "\n",
    "def multi_transform(df):\n",
    "    print('Init Shape: ', df.shape)\n",
    "    p = Pool(cpu_count())\n",
    "    df = p.map(transform_df, np.array_split(df, cpu_count()))\n",
    "    df = pd.concat(df, axis=0, ignore_index=True).reset_index(drop=True)\n",
    "    p.close(); p.join()\n",
    "    print('After Shape: ', df.shape)\n",
    "    return df\n",
    "\n",
    "train = multi_transform(train)\n",
    "test = multi_transform(test)\n",
    "\n",
    "\n",
    "\n"
   ]
  },
  {
   "cell_type": "code",
   "execution_count": 144,
   "metadata": {
    "collapsed": false
   },
   "outputs": [],
   "source": [
    "# Compute gini\n",
    "\n",
    "# from CPMP's kernel https://www.kaggle.com/cpmpml/extremely-fast-gini-computation\n",
    "\n",
    "def ginic(actual, pred):\n",
    "    actual = np.asarray(actual) \n",
    "    n = len(actual)\n",
    "    a_s = actual[np.argsort(pred)]\n",
    "    a_c = a_s.cumsum()\n",
    "    giniSum = a_c.sum() / a_s.sum() - (n + 1) / 2.0\n",
    "    return giniSum / n\n",
    " \n",
    "def gini_normalized(a, p):\n",
    "    if p.ndim == 2:\n",
    "        p = p[:,1] \n",
    "    return ginic(a, p) / ginic(a, a)\n",
    "    \n",
    "\n",
    "def gini_xgb(preds, dtrain):\n",
    "    labels = dtrain.get_label()\n",
    "    gini_score = gini_normalized(labels, preds)\n",
    "    return 'gini', gini_score"
   ]
  },
  {
   "cell_type": "code",
   "execution_count": 145,
   "metadata": {
    "collapsed": true
   },
   "outputs": [],
   "source": [
    "def add_noise(series, noise_level):\n",
    "    return series * (1 + noise_level * np.random.randn(len(series)))\n",
    "\n",
    "def target_encode(trn_series=None,\n",
    "                  tst_series=None,\n",
    "                  target=None,\n",
    "                  min_samples_leaf=1,\n",
    "                  smoothing=1,\n",
    "                  noise_level=0):\n",
    "    \"\"\"\n",
    "    Smoothing is computed like in the following paper by Daniele Micci-Barreca\n",
    "    https://kaggle2.blob.core.windows.net/forum-message-attachments/225952/7441/high%20cardinality%20categoricals.pdf\n",
    "    trn_series : training categorical feature as a pd.Series\n",
    "    tst_series : test categorical feature as a pd.Series\n",
    "    target : target data as a pd.Series\n",
    "    min_samples_leaf (int) : minimum samples to take category average into account\n",
    "    smoothing (int) : smoothing effect to balance categorical average vs prior\n",
    "    \"\"\"\n",
    "    assert len(trn_series) == len(target)\n",
    "    assert trn_series.name == tst_series.name\n",
    "    temp = pd.concat([trn_series, target], axis=1)\n",
    "    # Compute target mean\n",
    "    averages = temp.groupby(by=trn_series.name)[target.name].agg([\"mean\", \"count\"])\n",
    "    # Compute smoothing\n",
    "    smoothing = 1 / (1 + np.exp(-(averages[\"count\"] - min_samples_leaf) / smoothing))\n",
    "    # Apply average function to all target data\n",
    "    prior = target.mean()\n",
    "    # The bigger the count the less full_avg is taken into account\n",
    "    averages[target.name] = prior * (1 - smoothing) + averages[\"mean\"] * smoothing\n",
    "    averages.drop([\"mean\", \"count\"], axis=1, inplace=True)\n",
    "    # Apply averages to trn and tst series\n",
    "    ft_trn_series = pd.merge(\n",
    "        trn_series.to_frame(trn_series.name),\n",
    "        averages.reset_index().rename(columns={'index': target.name, target.name: 'average'}),\n",
    "        on=trn_series.name,\n",
    "        how='left')['average'].rename(trn_series.name + '_mean').fillna(prior)\n",
    "    # pd.merge does not keep the index so restore it\n",
    "    ft_trn_series.index = trn_series.index\n",
    "    ft_tst_series = pd.merge(\n",
    "        tst_series.to_frame(tst_series.name),\n",
    "        averages.reset_index().rename(columns={'index': target.name, target.name: 'average'}),\n",
    "        on=tst_series.name,\n",
    "        how='left')['average'].rename(trn_series.name + '_mean').fillna(prior)\n",
    "    # pd.merge does not keep the index so restore it\n",
    "    ft_tst_series.index = tst_series.index\n",
    "    return add_noise(ft_trn_series, noise_level), add_noise(ft_tst_series, noise_level)"
   ]
  },
  {
   "cell_type": "code",
   "execution_count": 146,
   "metadata": {
    "collapsed": false
   },
   "outputs": [],
   "source": [
    "#f_cats = [f for f in train.columns if \"_cat\" in f]\n",
    "for f in f_cats:\n",
    "    if '_median_range' not in f:\n",
    "        if '_mean_range' not in f:\n",
    "            train[f + \"_avg\"], test[f + \"_avg\"] = target_encode(trn_series=train[f],\n",
    "                                             tst_series=test[f],\n",
    "                                             target=y,\n",
    "                                             min_samples_leaf=200,\n",
    "                                             smoothing=10,\n",
    "                                             noise_level=0)"
   ]
  },
  {
   "cell_type": "code",
   "execution_count": 149,
   "metadata": {
    "collapsed": false
   },
   "outputs": [],
   "source": [
    "train = train.drop(f_cats,axis =1)\n",
    "test = test.drop(f_cats,axis =1)\n"
   ]
  },
  {
   "cell_type": "code",
   "execution_count": 150,
   "metadata": {
    "collapsed": true
   },
   "outputs": [],
   "source": [
    "MAX_ROUNDS = 5000\n",
    "OPTIMIZE_ROUNDS = True\n",
    "LEARNING_RATE = 0.07\n",
    "EARLY_STOPPING_ROUNDS = 50  \n",
    "# Note: I set EARLY_STOPPING_ROUNDS high so that (when OPTIMIZE_ROUNDS is set)\n",
    "#       I will get lots of information to make my own judgment.  You should probably\n",
    "#       reduce EARLY_STOPPING_ROUNDS if you want to do actual early stopping."
   ]
  },
  {
   "cell_type": "code",
   "execution_count": 151,
   "metadata": {
    "collapsed": false
   },
   "outputs": [],
   "source": [
    "K = 5\n",
    "kf = KFold(n_splits = K, random_state = 1, shuffle = True)\n",
    "imp_df = np.zeros((len(train.columns), K))\n",
    "sub_preds = np.zeros((len(test),K))\n",
    "np.random.seed(0)\n",
    "params = {'eta': 0.025, 'max_depth': 5, \n",
    "          'subsample': 0.9, 'colsample_bytree': 0.7, \n",
    "          'colsample_bylevel':0.7,\n",
    "          'min_child_weight':100,\n",
    "          'alpha':4,\n",
    "          'objective': 'binary:logistic', 'eval_metric': 'auc', 'seed': 99, 'silent': True}"
   ]
  },
  {
   "cell_type": "code",
   "execution_count": 152,
   "metadata": {
    "collapsed": false,
    "scrolled": true
   },
   "outputs": [
    {
     "name": "stdout",
     "output_type": "stream",
     "text": [
      "('\\nFold ', 0)\n",
      "[0]\ttrain-gini:0.179337\tvalid-gini:0.16451\n",
      "Multiple eval metrics have been passed: 'valid-gini' will be used for early stopping.\n",
      "\n",
      "Will train until valid-gini hasn't improved in 70 rounds.\n",
      "[100]\ttrain-gini:0.26766\tvalid-gini:0.252872\n",
      "[200]\ttrain-gini:0.298487\tvalid-gini:0.272516\n",
      "[300]\ttrain-gini:0.31563\tvalid-gini:0.280699\n",
      "[400]\ttrain-gini:0.328155\tvalid-gini:0.284984\n",
      "[500]\ttrain-gini:0.339092\tvalid-gini:0.286473\n",
      "[600]\ttrain-gini:0.348639\tvalid-gini:0.286924\n",
      "[700]\ttrain-gini:0.35796\tvalid-gini:0.287212\n",
      "[800]\ttrain-gini:0.365665\tvalid-gini:0.287049\n",
      "Stopping. Best iteration:\n",
      "[748]\ttrain-gini:0.361872\tvalid-gini:0.287239\n",
      "\n",
      "('  Best N trees = ', 749)\n",
      "('  Best gini = ', 0.287239)\n",
      "('  Gini = ', 0.28708918141400053)\n",
      "('\\nFold ', 1)\n",
      "[0]\ttrain-gini:0.177056\tvalid-gini:0.16768\n",
      "Multiple eval metrics have been passed: 'valid-gini' will be used for early stopping.\n",
      "\n",
      "Will train until valid-gini hasn't improved in 70 rounds.\n",
      "[100]\ttrain-gini:0.269748\tvalid-gini:0.252633\n",
      "[200]\ttrain-gini:0.299584\tvalid-gini:0.269294\n",
      "[300]\ttrain-gini:0.317541\tvalid-gini:0.275798\n",
      "[400]\ttrain-gini:0.330448\tvalid-gini:0.279317\n",
      "[500]\ttrain-gini:0.340143\tvalid-gini:0.281018\n",
      "[600]\ttrain-gini:0.34946\tvalid-gini:0.282449\n",
      "[700]\ttrain-gini:0.358128\tvalid-gini:0.283024\n",
      "[800]\ttrain-gini:0.365642\tvalid-gini:0.282451\n",
      "Stopping. Best iteration:\n",
      "[731]\ttrain-gini:0.360412\tvalid-gini:0.283171\n",
      "\n",
      "('  Best N trees = ', 732)\n",
      "('  Best gini = ', 0.283171)\n",
      "('  Gini = ', 0.28255451170411167)\n",
      "('\\nFold ', 2)\n",
      "[0]\ttrain-gini:0.188373\tvalid-gini:0.163074\n",
      "Multiple eval metrics have been passed: 'valid-gini' will be used for early stopping.\n",
      "\n",
      "Will train until valid-gini hasn't improved in 70 rounds.\n",
      "[100]\ttrain-gini:0.270996\tvalid-gini:0.242122\n",
      "[200]\ttrain-gini:0.301968\tvalid-gini:0.262305\n",
      "[300]\ttrain-gini:0.320203\tvalid-gini:0.270268\n",
      "[400]\ttrain-gini:0.332369\tvalid-gini:0.274212\n",
      "[500]\ttrain-gini:0.342821\tvalid-gini:0.276541\n",
      "[600]\ttrain-gini:0.351813\tvalid-gini:0.277318\n",
      "[700]\ttrain-gini:0.360375\tvalid-gini:0.277496\n",
      "Stopping. Best iteration:\n",
      "[725]\ttrain-gini:0.36269\tvalid-gini:0.277743\n",
      "\n",
      "('  Best N trees = ', 726)\n",
      "('  Best gini = ', 0.277743)\n",
      "('  Gini = ', 0.27760084462554641)\n",
      "('\\nFold ', 3)\n",
      "[0]\ttrain-gini:0.170992\tvalid-gini:0.168411\n",
      "Multiple eval metrics have been passed: 'valid-gini' will be used for early stopping.\n",
      "\n",
      "Will train until valid-gini hasn't improved in 70 rounds.\n",
      "[100]\ttrain-gini:0.265481\tvalid-gini:0.269291\n",
      "[200]\ttrain-gini:0.295345\tvalid-gini:0.289436\n",
      "[300]\ttrain-gini:0.314671\tvalid-gini:0.296267\n",
      "[400]\ttrain-gini:0.327279\tvalid-gini:0.298603\n",
      "[500]\ttrain-gini:0.3379\tvalid-gini:0.299245\n",
      "[600]\ttrain-gini:0.347375\tvalid-gini:0.300075\n",
      "[700]\ttrain-gini:0.355437\tvalid-gini:0.300762\n",
      "Stopping. Best iteration:\n",
      "[702]\ttrain-gini:0.355569\tvalid-gini:0.300813\n",
      "\n",
      "('  Best N trees = ', 703)\n",
      "('  Best gini = ', 0.300813)\n",
      "('  Gini = ', 0.30064909605750384)\n",
      "('\\nFold ', 4)\n",
      "[0]\ttrain-gini:0.165751\tvalid-gini:0.170617\n",
      "Multiple eval metrics have been passed: 'valid-gini' will be used for early stopping.\n",
      "\n",
      "Will train until valid-gini hasn't improved in 70 rounds.\n",
      "[100]\ttrain-gini:0.270659\tvalid-gini:0.250415\n",
      "[200]\ttrain-gini:0.300412\tvalid-gini:0.268439\n",
      "[300]\ttrain-gini:0.317743\tvalid-gini:0.277466\n",
      "[400]\ttrain-gini:0.330625\tvalid-gini:0.281703\n",
      "[500]\ttrain-gini:0.34139\tvalid-gini:0.28406\n",
      "[600]\ttrain-gini:0.350457\tvalid-gini:0.284968\n",
      "Stopping. Best iteration:\n",
      "[626]\ttrain-gini:0.352855\tvalid-gini:0.285224\n",
      "\n",
      "('  Best N trees = ', 627)\n",
      "('  Best gini = ', 0.285224)\n",
      "('  Gini = ', 0.28503788704515926)\n",
      "\n",
      "Gini for full training set:\n"
     ]
    },
    {
     "data": {
      "text/plain": [
       "0.28637063462587992"
      ]
     },
     "execution_count": 152,
     "metadata": {},
     "output_type": "execute_result"
    }
   ],
   "source": [
    "# Run CV\n",
    "\n",
    "y_valid_pred = 0*y\n",
    "y_test_pred = 0\n",
    "\n",
    "for i, (train_index, test_index) in enumerate(kf.split(train)):\n",
    "    \n",
    "    # Create data for this fold\n",
    "    y_train, y_valid = y.iloc[train_index].copy(), y.iloc[test_index]\n",
    "    X_train, X_valid = train.iloc[train_index,:].copy(), train.iloc[test_index,:].copy()\n",
    "    X_test = test.copy()\n",
    "    print( \"\\nFold \", i)\n",
    "    \n",
    "    # Enocode data\n",
    "#     for f in f_cats:\n",
    "#         X_train[f + \"_avg\"], X_valid[f + \"_avg\"], X_test[f + \"_avg\"] = target_encode(\n",
    "#                                                         trn_series=X_train[f],\n",
    "#                                                         val_series=X_valid[f],\n",
    "#                                                         tst_series=X_test[f],\n",
    "#                                                         target=y_train,\n",
    "#                                                         min_samples_leaf=200,\n",
    "#                                                         smoothing=10,\n",
    "#                                                         noise_level=0\n",
    "#                                                         )\n",
    "    # Run model for this fold\n",
    "    if OPTIMIZE_ROUNDS:\n",
    "        watchlist = [(xgb.DMatrix(X_train, y_train), 'train'), (xgb.DMatrix(X_valid, y_valid), 'valid')]\n",
    "        fit_model =  xgb.train(params, (xgb.DMatrix(X_train, y_train)), 5000,  watchlist, feval=gini_xgb, maximize=True, \n",
    "                  verbose_eval=100, early_stopping_rounds=70)\n",
    "        print( \"  Best N trees = \", fit_model.best_ntree_limit )\n",
    "        print( \"  Best gini = \", fit_model.best_score )\n",
    "    else:\n",
    "        fit_model = model.fit( X_train, y_train )\n",
    "        \n",
    "    # Generate validation predictions for this fold\n",
    "    pred = fit_model.predict(xgb.DMatrix(X_valid),ntree_limit=model.best_ntree_limit)\n",
    "    print( \"  Gini = \", gini_normalized(y_valid, pred) )\n",
    "    y_valid_pred.iloc[test_index] = pred\n",
    "    #Save Importance\n",
    "#    imp_df[:, i] = fit_model.feature_importances_\n",
    "    \n",
    "    # Accumulate test set predictions\n",
    "    sub_preds[:, i] = fit_model.predict(xgb.DMatrix(test),ntree_limit=model.best_ntree_limit)\n",
    "    \n",
    "    del X_test, X_train, X_valid, y_train\n",
    "    \n",
    "\n",
    "\n",
    "print( \"\\nGini for full training set:\" )\n",
    "gini_normalized(y, y_valid_pred)\n"
   ]
  },
  {
   "cell_type": "code",
   "execution_count": 153,
   "metadata": {
    "collapsed": true
   },
   "outputs": [],
   "source": [
    "sub_pred= np.delete(sub_preds,[2],axis =1)"
   ]
  },
  {
   "cell_type": "code",
   "execution_count": 154,
   "metadata": {
    "collapsed": false
   },
   "outputs": [],
   "source": [
    "import scipy\n",
    "sub = pd.DataFrame()\n",
    "sub['id'] = testid\n",
    "sub[\"target\"] = scipy.stats.hmean(sub_pred,axis=1)\n",
    "sub.to_csv(\"submission_10312017_xgb_0.2847_with_target_encoding.csv\", index=False, float_format=\"%.9f\")"
   ]
  },
  {
   "cell_type": "code",
   "execution_count": null,
   "metadata": {
    "collapsed": true
   },
   "outputs": [],
   "source": []
  }
 ],
 "metadata": {
  "kernelspec": {
   "display_name": "Python 2",
   "language": "python",
   "name": "python2"
  },
  "language_info": {
   "codemirror_mode": {
    "name": "ipython",
    "version": 2
   },
   "file_extension": ".py",
   "mimetype": "text/x-python",
   "name": "python",
   "nbconvert_exporter": "python",
   "pygments_lexer": "ipython2",
   "version": "2.7.13"
  }
 },
 "nbformat": 4,
 "nbformat_minor": 0
}
